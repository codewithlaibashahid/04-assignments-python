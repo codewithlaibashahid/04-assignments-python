{
  "nbformat": 4,
  "nbformat_minor": 0,
  "metadata": {
    "colab": {
      "provenance": [],
      "authorship_tag": "ABX9TyN4vcmVnKnfVe6a6HZJCPUj",
      "include_colab_link": true
    },
    "kernelspec": {
      "name": "python3",
      "display_name": "Python 3"
    },
    "language_info": {
      "name": "python"
    }
  },
  "cells": [
    {
      "cell_type": "markdown",
      "metadata": {
        "id": "view-in-github",
        "colab_type": "text"
      },
      "source": [
        "<a href=\"https://colab.research.google.com/github/codewithlaibashahid/04-assignments-python/blob/main/15minwebsitepython_.ipynb\" target=\"_parent\"><img src=\"https://colab.research.google.com/assets/colab-badge.svg\" alt=\"Open In Colab\"/></a>"
      ]
    },
    {
      "cell_type": "code",
      "execution_count": null,
      "metadata": {
        "id": "p8ROGHPO_QCX"
      },
      "outputs": [],
      "source": [
        "import streamlit as st\n",
        "import pandas as pd\n",
        "import random\n",
        "\n",
        "# Streamlit Page Configurations\n",
        "st.set_page_config(page_title=\"Student Data Generator\", layout=\"wide\")\n",
        "st.title(\"Student CSV File Generator\")\n",
        "\n",
        "# Define possible values\n",
        "names = [\"Fatima\", \"Ali\", \"Laiba\", \"Abiha\", \"Saad\", \"Hassan\", \"Hamza\", \"Abdullah\",\n",
        "         \"Shahwaiz\", \"Tayyaba\", \"Fiza\", \"Ezza\"]\n",
        "grades = [\"A\", \"B\", \"C\", \"D\", \"E\", \"F\"]\n",
        "\n",
        "# Generate multiple students (Example: 10 students)\n",
        "students = []\n",
        "for i in range(1, 11):  # Generate 10 student records\n",
        "    student = {\n",
        "        \"ID\": i,\n",
        "        \"Name\": random.choice(names),  # Convert set to list\n",
        "        \"Age\": random.randint(18, 25),\n",
        "        \"Grade\": random.choice(grades),\n",
        "        \"Marks\": random.randint(40, 100),\n",
        "    }\n",
        "    students.append(student)\n",
        "\n",
        "# Convert the list of students to a DataFrame\n",
        "df = pd.DataFrame(students)"
      ]
    }
  ]
}
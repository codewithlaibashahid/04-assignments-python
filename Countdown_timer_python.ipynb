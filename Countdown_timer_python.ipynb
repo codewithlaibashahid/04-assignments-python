{
  "nbformat": 4,
  "nbformat_minor": 0,
  "metadata": {
    "colab": {
      "provenance": [],
      "authorship_tag": "ABX9TyPjmayM398ZYuooqE1N/XX0",
      "include_colab_link": true
    },
    "kernelspec": {
      "name": "python3",
      "display_name": "Python 3"
    },
    "language_info": {
      "name": "python"
    }
  },
  "cells": [
    {
      "cell_type": "markdown",
      "metadata": {
        "id": "view-in-github",
        "colab_type": "text"
      },
      "source": [
        "<a href=\"https://colab.research.google.com/github/codewithlaibashahid/04-assignments-python/blob/main/Countdown_timer_python.ipynb\" target=\"_parent\"><img src=\"https://colab.research.google.com/assets/colab-badge.svg\" alt=\"Open In Colab\"/></a>"
      ]
    },
    {
      "cell_type": "code",
      "execution_count": null,
      "metadata": {
        "id": "DnU1aYAhKvsN"
      },
      "outputs": [],
      "source": [
        "import time\n",
        "\n",
        "my_time = int(input(\"Enter the time in seconds: \"))\n",
        "\n",
        "for x in range(my_time, 0, -1):\n",
        "    seconds = x % 60\n",
        "    minutes = int(x / 60) % 60\n",
        "    hours = int(x / 3600)\n",
        "    print(f\"{hours:02}:{minutes:02}:{seconds:02}\")\n",
        "    time.sleep(1)\n",
        "\n",
        "print(\"TIME'S UP!\")"
      ]
    }
  ]
}
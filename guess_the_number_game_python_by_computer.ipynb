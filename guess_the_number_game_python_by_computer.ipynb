{
  "nbformat": 4,
  "nbformat_minor": 0,
  "metadata": {
    "colab": {
      "provenance": [],
      "authorship_tag": "ABX9TyNE1HkXYY9dney+KHAiVK/5",
      "include_colab_link": true
    },
    "kernelspec": {
      "name": "python3",
      "display_name": "Python 3"
    },
    "language_info": {
      "name": "python"
    }
  },
  "cells": [
    {
      "cell_type": "markdown",
      "metadata": {
        "id": "view-in-github",
        "colab_type": "text"
      },
      "source": [
        "<a href=\"https://colab.research.google.com/github/codewithlaibashahid/04-assignments-python/blob/main/guess_the_number_game_python_by_computer.ipynb\" target=\"_parent\"><img src=\"https://colab.research.google.com/assets/colab-badge.svg\" alt=\"Open In Colab\"/></a>"
      ]
    },
    {
      "cell_type": "code",
      "execution_count": null,
      "metadata": {
        "id": "Es_Y3xDDJ4Gt"
      },
      "outputs": [],
      "source": [
        "#guess the number game by computer\n",
        "#number 1 to 100\n",
        "\n",
        "import random\n",
        "def guess_the_number():\n",
        "    \"\"\"Project 2: Guess the Number game by Computer\"\"\"\n",
        "    number = random.randint(1, 100)\n",
        "    guesses_left = 7\n",
        "    #welcome message\n",
        "    print(\"Welcome to the number guessing game\")\n",
        "    print(\"I am thinking a number between 1 to 100\")\n",
        "\n",
        "    #loop generated\n",
        "    while guesses_left > 0 :\n",
        "     print(f\"\\nYou have {guesses_left} guesses left.\")\n",
        "     try:\n",
        "        guess=int(input(\"Take a guess of another number. \"))\n",
        "     except ValueError:\n",
        "        print(\"Invalid input: Please enter number.\")\n",
        "        continue\n",
        "\n",
        "     #guess the secret number\n",
        "    if guess > number:\n",
        "       print(\"Toob low number. Tell another!\")\n",
        "    elif guess < number:\n",
        "       print(\"Too High number. Tell another!\")\n",
        "\n",
        "    else:\n",
        "        print(f\"Congratulations! You guessed the correct number in {7 - guesses_left +1} tries!\")\n",
        "        return\n",
        "\n",
        "    guesses_left -= 1\n",
        "\n",
        "    if guesses_left == 0:\n",
        "        print(f\"\\nGame Over! The number was {number}\")\n",
        "\n",
        "guess_the_number()\n"
      ]
    }
  ]
}
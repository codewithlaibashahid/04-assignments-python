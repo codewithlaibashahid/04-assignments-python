{
  "nbformat": 4,
  "nbformat_minor": 0,
  "metadata": {
    "colab": {
      "provenance": [],
      "authorship_tag": "ABX9TyOgzda7p/zw0vn4pmq+uRRH",
      "include_colab_link": true
    },
    "kernelspec": {
      "name": "python3",
      "display_name": "Python 3"
    },
    "language_info": {
      "name": "python"
    }
  },
  "cells": [
    {
      "cell_type": "markdown",
      "metadata": {
        "id": "view-in-github",
        "colab_type": "text"
      },
      "source": [
        "<a href=\"https://colab.research.google.com/github/codewithlaibashahid/04-assignments-python/blob/main/guess_the_number_game_user.ipynb\" target=\"_parent\"><img src=\"https://colab.research.google.com/assets/colab-badge.svg\" alt=\"Open In Colab\"/></a>"
      ]
    },
    {
      "cell_type": "code",
      "execution_count": null,
      "metadata": {
        "id": "a5Ruy5dQKHGI"
      },
      "outputs": [],
      "source": [
        "#3 project: guess number game by user\n",
        "\n",
        "import random\n",
        "print(\"Guess the number between 1 to 100!\")\n",
        "\n",
        "#generate random number\n",
        "number = random.randint(1, 100)\n",
        "while True:\n",
        "    guess =int(input(\"Enter your guess number: \"))\n",
        "    if guess > number:\n",
        "       print(\"Too low number. Tell another!\")\n",
        "    elif guess < number:\n",
        "       print(\"Too High number. Tell another!\")\n",
        "    else :\n",
        "       print(\"Congratulations! you got it right\")\n",
        "       break"
      ]
    }
  ]
}
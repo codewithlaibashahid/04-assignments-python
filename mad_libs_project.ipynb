{
  "nbformat": 4,
  "nbformat_minor": 0,
  "metadata": {
    "colab": {
      "provenance": [],
      "authorship_tag": "ABX9TyMVpV+vkF4BvU1rAn8SxzHT",
      "include_colab_link": true
    },
    "kernelspec": {
      "name": "python3",
      "display_name": "Python 3"
    },
    "language_info": {
      "name": "python"
    }
  },
  "cells": [
    {
      "cell_type": "markdown",
      "metadata": {
        "id": "view-in-github",
        "colab_type": "text"
      },
      "source": [
        "<a href=\"https://colab.research.google.com/github/codewithlaibashahid/04-assignments-python/blob/main/mad_libs_project.ipynb\" target=\"_parent\"><img src=\"https://colab.research.google.com/assets/colab-badge.svg\" alt=\"Open In Colab\"/></a>"
      ]
    },
    {
      "cell_type": "code",
      "execution_count": null,
      "metadata": {
        "id": "1oyxvlmlJR1o"
      },
      "outputs": [],
      "source": [
        "# take input from user\n",
        "name= input (\"Enter the boy's name: \")\n",
        "programming_language = input (\"Enter Programming language (e.g: Python, next.js ,Html , typescript): \")\n",
        "mentor= input (\"Enter mentor name: \")\n",
        "location = input (\"Enter Location (eg: Governor House): \")\n",
        "\n",
        "# story created\n",
        "\n",
        "print(\"\\n Here is my little story based on mad libs game!\")\n",
        "print(f\"Once upon a time there was a boy named {name} \")\n",
        "print(f\"{name} always dream and is passionate to become programmer\")\n",
        "print(f\"After great focus and his dedication he got selected to learn {programming_language} from {location}\")\n",
        "print(f\"Luckily {name} found great mentor {mentor} who was an expert of {programming_language} \")\n",
        "print(f\"And so...His Journey Continued!...\")\n"
      ]
    }
  ]
}
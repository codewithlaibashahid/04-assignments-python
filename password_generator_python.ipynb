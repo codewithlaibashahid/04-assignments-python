{
  "nbformat": 4,
  "nbformat_minor": 0,
  "metadata": {
    "colab": {
      "provenance": [],
      "authorship_tag": "ABX9TyMhKmsAofMQ3eTorpjiDmPq",
      "include_colab_link": true
    },
    "kernelspec": {
      "name": "python3",
      "display_name": "Python 3"
    },
    "language_info": {
      "name": "python"
    }
  },
  "cells": [
    {
      "cell_type": "markdown",
      "metadata": {
        "id": "view-in-github",
        "colab_type": "text"
      },
      "source": [
        "<a href=\"https://colab.research.google.com/github/codewithlaibashahid/04-assignments-python/blob/main/password_generator_python.ipynb\" target=\"_parent\"><img src=\"https://colab.research.google.com/assets/colab-badge.svg\" alt=\"Open In Colab\"/></a>"
      ]
    },
    {
      "cell_type": "code",
      "execution_count": null,
      "metadata": {
        "id": "pK5bby8sLDGo"
      },
      "outputs": [],
      "source": [
        "import random\n",
        "\n",
        "uppercase_letter = \"ABCDEFGHIJKLMNOPQRSTUVWXYZ\"\n",
        "lowercase_letter = uppercase_letter.lower()\n",
        "digits = \"0123456789\"\n",
        "symbols = \"[]{}()*;/,._-@?\\+\"\n",
        "\n",
        "upper, lower, nums, syms = True, True, True, True\n",
        "\n",
        "all = \"\"\n",
        "\n",
        "if upper:\n",
        "    all += uppercase_letter\n",
        "if lower:\n",
        "    all += lowercase_letter\n",
        "if nums:\n",
        "    all += digits\n",
        "if syms:\n",
        "    all += symbols\n",
        "\n",
        "length = 40\n",
        "amount = 20\n",
        "\n",
        "for x in range(amount):\n",
        "    password = \"\".join(random.sample(all, length))\n",
        "    print(password)\n",
        "\n"
      ]
    }
  ]
}